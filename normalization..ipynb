﻿{
  "metadata": {
    "name": "normalization",
    "kernelspec": {
      "language": "scala",
      "name": "spark2-scala"
    },
    "language_info": {
      "codemirror_mode": "text/x-scala",
      "file_extension": ".scala",
      "mimetype": "text/x-scala",
      "name": "scala",
      "pygments_lexer": "scala"
    }
  },
  "nbformat": 4,
  "nbformat_minor": 2,
  "cells": [
    {
      "cell_type": "code",
      "execution_count": 0,
      "metadata": {
        "autoscroll": "auto"
      },
      "outputs": [],
      "source": "%sh\r\npip install pandas sqlalchemy\r\npip install psycopg2\r\n\r\n"
    },
    {
      "cell_type": "code",
      "execution_count": 1,
      "metadata": {
        "autoscroll": "auto"
      },
      "outputs": [],
      "source": "from sqlalchemy import create_engine\r\nimport pandas as pd"
    },
    {
      "cell_type": "code",
      "execution_count": 2,
      "metadata": {
        "autoscroll": "auto"
      },
      "outputs": [],
      "source": "RDS_HOSTNAME\u003d\"lotus-db.c3e4qkoosswu.us-east-1.rds.amazonaws.com\"\r\nRDS_USER\u003d\"beto\"\r\nRDS_PASSWORD\u003d\"pasword123\"\r\nRDS_PORT\u003d\"5432\"\r\nRDS_DB\u003d\"postgres\"\r\n\r\nRDS_SCHOOLS_TABLE_NAME\u003d\"rds_schools\"\r\nRDS_CITIES_TABLE_NAME\u003d\"rds_cities\""
    },
    {
      "cell_type": "code",
      "execution_count": 3,
      "metadata": {
        "autoscroll": "auto"
      },
      "outputs": [],
      "source": "def descargar_tabla_rds(table_name, user, password, host, port, database):\r\n    # Configura la conexión a la base de datos RDS\r\n    engine \u003d create_engine(f\"postgresql://{user}:{password}@{host}:{port}/{database}\")\r\n\r\n    # Intenta descargar la tabla como DataFrame\r\n    try:\r\n        query \u003d f\"SELECT * FROM {table_name}\"\r\n        df \u003d pd.read_sql(query, engine)\r\n\r\n        # Imprime el DataFrame\r\n        print(df)\r\n\r\n        # Devuelve el DataFrame en caso de que quieras hacer más cosas con él\r\n        return df\r\n\r\n    except Exception as e:\r\n        print(f\"Error al descargar la tabla {table_name}: {str(e)}\")\r\n\r\n\r\n"
    },
    {
      "cell_type": "code",
      "execution_count": 4,
      "metadata": {
        "autoscroll": "auto"
      },
      "outputs": [],
      "source": "print(descargar_tabla_rds(RDS_SCHOOLS_TABLE_NAME, RDS_USER, RDS_PASSWORD, RDS_HOSTNAME, RDS_PORT, RDS_DB))"
    }
  ]
}